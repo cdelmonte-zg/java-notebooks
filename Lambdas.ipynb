{
 "cells": [
  {
   "cell_type": "code",
   "execution_count": 1,
   "metadata": {},
   "outputs": [],
   "source": [
    "enum Color {\n",
    "    RED, GREEN;\n",
    "}"
   ]
  },
  {
   "cell_type": "code",
   "execution_count": 2,
   "metadata": {},
   "outputs": [],
   "source": [
    "public class Apple {\n",
    "    Color color;\n",
    "    Integer weight;\n",
    "    \n",
    "    public Apple(Color color, Integer weight) {\n",
    "        this.color = color;\n",
    "        this.weight = weight;\n",
    "    }\n",
    "}\n",
    "\n",
    "\n",
    "public class GreenApple extends Apple  {\n",
    "    public GreenApple() {\n",
    "        super(Color.GREEN, 100);\n",
    "    }\n",
    "}\n",
    "\n",
    "public class RedApple extends Apple  {\n",
    "    public RedApple() {\n",
    "        super(Color.RED, 150);\n",
    "    }\n",
    "}\n"
   ]
  },
  {
   "cell_type": "code",
   "execution_count": 3,
   "metadata": {},
   "outputs": [],
   "source": [
    "Apple[] app = {new GreenApple(), new RedApple()};\n",
    "\n",
    "List<Apple> apples = Arrays.asList(app);"
   ]
  },
  {
   "cell_type": "code",
   "execution_count": 4,
   "metadata": {},
   "outputs": [
    {
     "name": "stdout",
     "output_type": "stream",
     "text": [
      "GREEN 100 \n",
      "RED 150 \n"
     ]
    }
   ],
   "source": [
    "apples.forEach(a -> {System.out.printf(a.color + \" %d \\n\", a.weight);})"
   ]
  },
  {
   "cell_type": "code",
   "execution_count": 5,
   "metadata": {},
   "outputs": [],
   "source": [
    "public static List<Apple> filterGreenApples(List<Apple> inventory) {\n",
    "    List<Apple> result = new ArrayList<>();\n",
    "    \n",
    "    for (Apple a: inventory) {\n",
    "        if (Color.GREEN.equals(a.color)) {\n",
    "            result.add(a);\n",
    "        }\n",
    "    }\n",
    "    \n",
    "    return result;\n",
    "}\n"
   ]
  },
  {
   "cell_type": "code",
   "execution_count": 6,
   "metadata": {},
   "outputs": [
    {
     "name": "stdout",
     "output_type": "stream",
     "text": [
      "100\n"
     ]
    }
   ],
   "source": [
    "filterGreenApples(apples).forEach(a -> System.out.println(a.weight));"
   ]
  },
  {
   "cell_type": "code",
   "execution_count": 7,
   "metadata": {},
   "outputs": [],
   "source": [
    "public List<Apple> filterApplesByColor(List<Apple> inventory, Color color) {\n",
    "    List<Apple> result = new ArrayList<>();\n",
    "    \n",
    "    for (Apple a: inventory) {\n",
    "        if (color.equals(a.color)) {\n",
    "            result.add(a);\n",
    "        }\n",
    "    }\n",
    "    \n",
    "    return result;\n",
    "}"
   ]
  },
  {
   "cell_type": "code",
   "execution_count": 8,
   "metadata": {},
   "outputs": [
    {
     "name": "stdout",
     "output_type": "stream",
     "text": [
      "150\n"
     ]
    }
   ],
   "source": [
    "filterApplesByColor(apples, Color.RED).forEach(a -> System.out.println(a.weight));"
   ]
  },
  {
   "cell_type": "code",
   "execution_count": 9,
   "metadata": {},
   "outputs": [],
   "source": [
    "public static List<Apple> filterApplesByMaxWeight(List<Apple> inventory, int weight) {\n",
    "    List<Apple> result = new ArrayList<>();\n",
    "    \n",
    "    for (Apple a: inventory) {\n",
    "        if (weight >= a.weight) {\n",
    "            result.add(a);\n",
    "        }\n",
    "    }\n",
    "    \n",
    "    return result;\n",
    "}"
   ]
  },
  {
   "cell_type": "code",
   "execution_count": 10,
   "metadata": {},
   "outputs": [
    {
     "name": "stdout",
     "output_type": "stream",
     "text": [
      "100\n",
      "150\n"
     ]
    }
   ],
   "source": [
    "filterApplesByMaxWeight(apples, 200).forEach(a -> System.out.println(a.weight));"
   ]
  },
  {
   "cell_type": "markdown",
   "metadata": {},
   "source": [
    "### Strategy Pattern"
   ]
  },
  {
   "cell_type": "code",
   "execution_count": 11,
   "metadata": {},
   "outputs": [],
   "source": [
    "public interface ApplePredicate {\n",
    "    boolean test(Apple apple);\n",
    "}"
   ]
  },
  {
   "cell_type": "code",
   "execution_count": 12,
   "metadata": {},
   "outputs": [],
   "source": [
    "public class AppleHeavyWeightPredicate implements ApplePredicate {\n",
    "    public boolean test(Apple apple) {\n",
    "        return apple.weight <150;\n",
    "    }\n",
    "}\n",
    "\n",
    "public class AppleGreenColorPredicate implements ApplePredicate {\n",
    "    public boolean test(Apple apple) {\n",
    "        return Color.GREEN.equals(apple.color);\n",
    "    }\n",
    "}"
   ]
  },
  {
   "cell_type": "code",
   "execution_count": 13,
   "metadata": {},
   "outputs": [],
   "source": [
    "public static List<Apple> filterApples(List<Apple> inventory, ApplePredicate p) {\n",
    "    List<Apple> result = new ArrayList<>();\n",
    "    for (Apple a: inventory) {\n",
    "        if (p.test(a)) {\n",
    "            result.add(a);\n",
    "        }\n",
    "    }\n",
    "    \n",
    "    return result;\n",
    "}"
   ]
  },
  {
   "cell_type": "code",
   "execution_count": 14,
   "metadata": {},
   "outputs": [
    {
     "name": "stdout",
     "output_type": "stream",
     "text": [
      "GREEN\n"
     ]
    }
   ],
   "source": [
    "filterApples(apples, new AppleGreenColorPredicate()).forEach(a -> System.out.println(a.color));"
   ]
  },
  {
   "cell_type": "markdown",
   "metadata": {},
   "source": [
    "As you can see, it's more than less an implementation of the **Strategy pattern**"
   ]
  },
  {
   "cell_type": "code",
   "execution_count": 25,
   "metadata": {},
   "outputs": [
    {
     "name": "stdout",
     "output_type": "stream",
     "text": [
      " Hello world!\n"
     ]
    }
   ],
   "source": [
    "public String processFile() throws IOException {\n",
    "    try (BufferedReader br =  new BufferedReader(new FileReader(\"data.txt\"))) {\n",
    "        return br.readLine();\n",
    "    }\n",
    "}\n",
    "\n",
    "String line = processFile();\n",
    "System.out.println(line);"
   ]
  },
  {
   "cell_type": "markdown",
   "metadata": {},
   "source": [
    "An interesting example of the **Execute-Around Pattern** implemented with the \"try with\" construct and a lambda function used to isolate the behavior from the setup and cleanup phases, thanks **behavior parametrization**.\n",
    "\n",
    "These exemplify some generic steps needed to transform the previous code in the following one:\n",
    "1. Use a functional interface to pass behaviors\n",
    "2. Let execute the passed behavior\n",
    "3. Pass the behavior as Lambdas"
   ]
  },
  {
   "cell_type": "code",
   "execution_count": 32,
   "metadata": {},
   "outputs": [
    {
     "name": "stdout",
     "output_type": "stream",
     "text": [
      " Hello world!\n",
      " Hello world!  Hello once again!!\n"
     ]
    }
   ],
   "source": [
    "@FunctionalInterface\n",
    "public interface BufferedReaderProcessor {\n",
    "    String process(BufferedReader b) throws IOException;\n",
    "}\n",
    "\n",
    "public String processFile(BufferedReaderProcessor p) throws IOException {\n",
    "    try(BufferedReader br = new BufferedReader(new FileReader(\"data.txt\"))) {\n",
    "        return p.process(br);\n",
    "    }\n",
    "}\n",
    "\n",
    "String lineOne = processFile((BufferedReader b) -> b.readLine());\n",
    "System.out.println(lineOne);\n",
    "\n",
    "String lineOneAndTwo = processFile((BufferedReader b) -> b.readLine() + \" \" + b.readLine());\n",
    "System.out.println(lineOneAndTwo);\n"
   ]
  },
  {
   "cell_type": "code",
   "execution_count": 38,
   "metadata": {},
   "outputs": [],
   "source": [
    "    Runnable r = () -> {\n",
    "        try {\n",
    "            System.out.println(processFile((BufferedReader b) -> b.readLine() + \" \" + b.readLine()));\n",
    "        } catch(IOException e) {\n",
    "            e.printStackTrace();\n",
    "        }\n",
    "    };\n"
   ]
  },
  {
   "cell_type": "code",
   "execution_count": null,
   "metadata": {},
   "outputs": [],
   "source": []
  },
  {
   "cell_type": "code",
   "execution_count": null,
   "metadata": {},
   "outputs": [],
   "source": []
  }
 ],
 "metadata": {
  "kernelspec": {
   "display_name": "Java",
   "language": "java",
   "name": "java"
  },
  "language_info": {
   "codemirror_mode": "java",
   "file_extension": ".java",
   "mimetype": "text/x-java-source",
   "name": "Java",
   "pygments_lexer": "java",
   "version": "11.0.2+7-LTS"
  }
 },
 "nbformat": 4,
 "nbformat_minor": 2
}
