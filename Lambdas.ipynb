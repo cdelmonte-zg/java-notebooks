{
 "cells": [
  {
   "cell_type": "code",
   "execution_count": 1,
   "metadata": {},
   "outputs": [],
   "source": [
    "enum Color {\n",
    "    RED, GREEN;\n",
    "}"
   ]
  },
  {
   "cell_type": "code",
   "execution_count": 2,
   "metadata": {},
   "outputs": [],
   "source": [
    "public class Apple {\n",
    "    Color color;\n",
    "    Integer weight;\n",
    "    \n",
    "    public Apple(Color color, Integer weight) {\n",
    "        this.color = color;\n",
    "        this.weight = weight;\n",
    "    }\n",
    "}\n",
    "\n",
    "\n",
    "public class GreenApple extends Apple  {\n",
    "    public GreenApple() {\n",
    "        super(Color.GREEN, 100);\n",
    "    }\n",
    "}\n",
    "\n",
    "public class RedApple extends Apple  {\n",
    "    public RedApple() {\n",
    "        super(Color.RED, 150);\n",
    "    }\n",
    "}\n"
   ]
  },
  {
   "cell_type": "code",
   "execution_count": 3,
   "metadata": {},
   "outputs": [],
   "source": [
    "Apple[] app = {new GreenApple(), new RedApple()};\n",
    "\n",
    "List<Apple> apples = Arrays.asList(app);"
   ]
  },
  {
   "cell_type": "code",
   "execution_count": 4,
   "metadata": {},
   "outputs": [
    {
     "name": "stdout",
     "output_type": "stream",
     "text": [
      "GREEN 100 \n",
      "RED 150 \n"
     ]
    }
   ],
   "source": [
    "apples.forEach(a -> {System.out.printf(a.color + \" %d \\n\", a.weight);})"
   ]
  },
  {
   "cell_type": "code",
   "execution_count": 5,
   "metadata": {},
   "outputs": [],
   "source": [
    "public static List<Apple> filterGreenApples(List<Apple> inventory) {\n",
    "    List<Apple> result = new ArrayList<>();\n",
    "    \n",
    "    for (Apple a: inventory) {\n",
    "        if (Color.GREEN.equals(a.color)) {\n",
    "            result.add(a);\n",
    "        }\n",
    "    }\n",
    "    \n",
    "    return result;\n",
    "}\n"
   ]
  },
  {
   "cell_type": "code",
   "execution_count": 6,
   "metadata": {},
   "outputs": [
    {
     "name": "stdout",
     "output_type": "stream",
     "text": [
      "100\n"
     ]
    }
   ],
   "source": [
    "filterGreenApples(apples).forEach(a -> System.out.println(a.weight));"
   ]
  },
  {
   "cell_type": "code",
   "execution_count": 7,
   "metadata": {},
   "outputs": [],
   "source": [
    "public List<Apple> filterApplesByColor(List<Apple> inventory, Color color) {\n",
    "    List<Apple> result = new ArrayList<>();\n",
    "    \n",
    "    for (Apple a: inventory) {\n",
    "        if (color.equals(a.color)) {\n",
    "            result.add(a);\n",
    "        }\n",
    "    }\n",
    "    \n",
    "    return result;\n",
    "}"
   ]
  },
  {
   "cell_type": "code",
   "execution_count": 8,
   "metadata": {},
   "outputs": [
    {
     "name": "stdout",
     "output_type": "stream",
     "text": [
      "150\n"
     ]
    }
   ],
   "source": [
    "filterApplesByColor(apples, Color.RED).forEach(a -> System.out.println(a.weight));"
   ]
  },
  {
   "cell_type": "code",
   "execution_count": 9,
   "metadata": {},
   "outputs": [],
   "source": [
    "public static List<Apple> filterApplesByMaxWeight(List<Apple> inventory, int weight) {\n",
    "    List<Apple> result = new ArrayList<>();\n",
    "    \n",
    "    for (Apple a: inventory) {\n",
    "        if (weight >= a.weight) {\n",
    "            result.add(a);\n",
    "        }\n",
    "    }\n",
    "    \n",
    "    return result;\n",
    "}"
   ]
  },
  {
   "cell_type": "code",
   "execution_count": 10,
   "metadata": {},
   "outputs": [
    {
     "name": "stdout",
     "output_type": "stream",
     "text": [
      "100\n",
      "150\n"
     ]
    }
   ],
   "source": [
    "filterApplesByMaxWeight(apples, 200).forEach(a -> System.out.println(a.weight));"
   ]
  },
  {
   "cell_type": "markdown",
   "metadata": {},
   "source": [
    "### Strategy Pattern"
   ]
  },
  {
   "cell_type": "code",
   "execution_count": 11,
   "metadata": {},
   "outputs": [],
   "source": [
    "public interface ApplePredicate {\n",
    "    boolean test(Apple apple);\n",
    "}"
   ]
  },
  {
   "cell_type": "code",
   "execution_count": 12,
   "metadata": {},
   "outputs": [],
   "source": [
    "public class AppleHeavyWeightPredicate implements ApplePredicate {\n",
    "    public boolean test(Apple apple) {\n",
    "        return apple.weight <150;\n",
    "    }\n",
    "}\n",
    "\n",
    "public class AppleGreenColorPredicate implements ApplePredicate {\n",
    "    public boolean test(Apple apple) {\n",
    "        return Color.GREEN.equals(apple.color);\n",
    "    }\n",
    "}"
   ]
  },
  {
   "cell_type": "code",
   "execution_count": 13,
   "metadata": {},
   "outputs": [],
   "source": [
    "public static List<Apple> filterApples(List<Apple> inventory, ApplePredicate p) {\n",
    "    List<Apple> result = new ArrayList<>();\n",
    "    for (Apple a: inventory) {\n",
    "        if (p.test(a)) {\n",
    "            result.add(a);\n",
    "        }\n",
    "    }\n",
    "    \n",
    "    return result;\n",
    "}"
   ]
  },
  {
   "cell_type": "code",
   "execution_count": 14,
   "metadata": {},
   "outputs": [
    {
     "name": "stdout",
     "output_type": "stream",
     "text": [
      "GREEN\n"
     ]
    }
   ],
   "source": [
    "filterApples(apples, new AppleGreenColorPredicate()).forEach(a -> System.out.println(a.color));"
   ]
  },
  {
   "cell_type": "markdown",
   "metadata": {},
   "source": [
    "As you can see, it's more than less an implementation of the **Strategy pattern**"
   ]
  },
  {
   "cell_type": "code",
   "execution_count": 25,
   "metadata": {},
   "outputs": [
    {
     "name": "stdout",
     "output_type": "stream",
     "text": [
      " Hello world!\n"
     ]
    }
   ],
   "source": [
    "public String processFile() throws IOException {\n",
    "    try (BufferedReader br =  new BufferedReader(new FileReader(\"data.txt\"))) {\n",
    "        return br.readLine();\n",
    "    }\n",
    "}\n",
    "\n",
    "String line = processFile();\n",
    "System.out.println(line);"
   ]
  },
  {
   "cell_type": "markdown",
   "metadata": {},
   "source": [
    "An interesting example of the **Execute-Around Pattern** implemented with the \"try with\" construct and a lambda function used to isolate the behavior from the setup and cleanup phases, thanks **behavior parametrization**.\n",
    "\n",
    "These exemplify some generic steps needed to transform the previous code in the following one:\n",
    "1. Use a functional interface to pass behaviors\n",
    "2. Let execute the passed behavior\n",
    "3. Pass the behavior as Lambdas"
   ]
  },
  {
   "cell_type": "code",
   "execution_count": 32,
   "metadata": {},
   "outputs": [
    {
     "name": "stdout",
     "output_type": "stream",
     "text": [
      " Hello world!\n",
      " Hello world!  Hello once again!!\n"
     ]
    }
   ],
   "source": [
    "@FunctionalInterface\n",
    "public interface BufferedReaderProcessor {\n",
    "    String process(BufferedReader b) throws IOException;\n",
    "}\n",
    "\n",
    "public String processFile(BufferedReaderProcessor p) throws IOException {\n",
    "    try(BufferedReader br = new BufferedReader(new FileReader(\"data.txt\"))) {\n",
    "        return p.process(br);\n",
    "    }\n",
    "}\n",
    "\n",
    "String lineOne = processFile((BufferedReader b) -> b.readLine());\n",
    "System.out.println(lineOne);\n",
    "\n",
    "String lineOneAndTwo = processFile((BufferedReader b) -> b.readLine() + \" \" + b.readLine());\n",
    "System.out.println(lineOneAndTwo);\n"
   ]
  },
  {
   "cell_type": "markdown",
   "metadata": {},
   "source": [
    "Now I will use the functional interface **Function<T, R>** to create a parametrized behavior'."
   ]
  },
  {
   "cell_type": "code",
   "execution_count": 54,
   "metadata": {},
   "outputs": [],
   "source": [
    "@FunctionalInterface\n",
    "public interface Function<T, R> {\n",
    "    public R apply(T t);\n",
    "}\n",
    "\n",
    "public <T, R> List<R> map(List<T> l, Function<T, R> f) {\n",
    "    List<R> result = new ArrayList<>();\n",
    "    \n",
    "    for (T el : l) {\n",
    "        result.add(f.apply(el));\n",
    "    }\n",
    "    \n",
    "    return result;\n",
    "}\n",
    "\n",
    "List<Integer> someNumbers = new ArrayList<>();\n",
    "for (int i = 1; i <= 100; i++) {\n",
    "    someNumbers.add(i);\n",
    "}"
   ]
  },
  {
   "cell_type": "code",
   "execution_count": 55,
   "metadata": {},
   "outputs": [
    {
     "data": {
      "text/plain": [
       "[2, 4, 6, 8, 10, 12, 14, 16, 18, 20, 22, 24, 26, 28, 30, 32, 34, 36, 38, 40, 42, 44, 46, 48, 50, 52, 54, 56, 58, 60, 62, 64, 66, 68, 70, 72, 74, 76, 78, 80, 82, 84, 86, 88, 90, 92, 94, 96, 98, 100, 102, 104, 106, 108, 110, 112, 114, 116, 118, 120, 122, 124, 126, 128, 130, 132, 134, 136, 138, 140, 142, 144, 146, 148, 150, 152, 154, 156, 158, 160, 162, 164, 166, 168, 170, 172, 174, 176, 178, 180, 182, 184, 186, 188, 190, 192, 194, 196, 198, 200]"
      ]
     },
     "execution_count": 55,
     "metadata": {},
     "output_type": "execute_result"
    }
   ],
   "source": [
    "map(someNumbers, (Integer a)-> a * 2);"
   ]
  },
  {
   "cell_type": "code",
   "execution_count": 56,
   "metadata": {},
   "outputs": [
    {
     "data": {
      "text/plain": [
       "[101, 102, 103, 104, 105, 106, 107, 108, 109, 110, 111, 112, 113, 114, 115, 116, 117, 118, 119, 120, 121, 122, 123, 124, 125, 126, 127, 128, 129, 130, 131, 132, 133, 134, 135, 136, 137, 138, 139, 140, 141, 142, 143, 144, 145, 146, 147, 148, 149, 150, 151, 152, 153, 154, 155, 156, 157, 158, 159, 160, 161, 162, 163, 164, 165, 166, 167, 168, 169, 170, 171, 172, 173, 174, 175, 176, 177, 178, 179, 180, 181, 182, 183, 184, 185, 186, 187, 188, 189, 190, 191, 192, 193, 194, 195, 196, 197, 198, 199, 200]"
      ]
     },
     "execution_count": 56,
     "metadata": {},
     "output_type": "execute_result"
    }
   ],
   "source": [
    "map(someNumbers, (Integer a)-> a + 100);"
   ]
  }
 ],
 "metadata": {
  "kernelspec": {
   "display_name": "Java",
   "language": "java",
   "name": "java"
  },
  "language_info": {
   "codemirror_mode": "java",
   "file_extension": ".java",
   "mimetype": "text/x-java-source",
   "name": "Java",
   "pygments_lexer": "java",
   "version": "11.0.2+7-LTS"
  }
 },
 "nbformat": 4,
 "nbformat_minor": 2
}
